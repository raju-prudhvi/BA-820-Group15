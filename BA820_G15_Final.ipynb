{
  "nbformat": 4,
  "nbformat_minor": 0,
  "metadata": {
    "colab": {
      "provenance": [],
      "include_colab_link": true
    },
    "kernelspec": {
      "name": "python3",
      "display_name": "Python 3"
    },
    "language_info": {
      "name": "python"
    }
  },
  "cells": [
    {
      "cell_type": "markdown",
      "metadata": {
        "id": "view-in-github",
        "colab_type": "text"
      },
      "source": [
        "<a href=\"https://colab.research.google.com/github/raju-prudhvi/BA-820-Group15/blob/main/BA820_G15_Final.ipynb\" target=\"_parent\"><img src=\"https://colab.research.google.com/assets/colab-badge.svg\" alt=\"Open In Colab\"/></a>"
      ]
    },
    {
      "cell_type": "code",
      "execution_count": null,
      "metadata": {
        "colab": {
          "base_uri": "https://localhost:8080/"
        },
        "id": "F_ztJiKINOJ9",
        "outputId": "4675a4a5-6693-48f8-80e7-de36303dcade"
      },
      "outputs": [
        {
          "output_type": "stream",
          "name": "stdout",
          "text": [
            "Collecting opendatasets\n",
            "  Downloading opendatasets-0.1.22-py3-none-any.whl (15 kB)\n",
            "Requirement already satisfied: tqdm in /usr/local/lib/python3.10/dist-packages (from opendatasets) (4.66.2)\n",
            "Requirement already satisfied: kaggle in /usr/local/lib/python3.10/dist-packages (from opendatasets) (1.5.16)\n",
            "Requirement already satisfied: click in /usr/local/lib/python3.10/dist-packages (from opendatasets) (8.1.7)\n",
            "Requirement already satisfied: six>=1.10 in /usr/local/lib/python3.10/dist-packages (from kaggle->opendatasets) (1.16.0)\n",
            "Requirement already satisfied: certifi in /usr/local/lib/python3.10/dist-packages (from kaggle->opendatasets) (2024.2.2)\n",
            "Requirement already satisfied: python-dateutil in /usr/local/lib/python3.10/dist-packages (from kaggle->opendatasets) (2.8.2)\n",
            "Requirement already satisfied: requests in /usr/local/lib/python3.10/dist-packages (from kaggle->opendatasets) (2.31.0)\n",
            "Requirement already satisfied: python-slugify in /usr/local/lib/python3.10/dist-packages (from kaggle->opendatasets) (8.0.4)\n",
            "Requirement already satisfied: urllib3 in /usr/local/lib/python3.10/dist-packages (from kaggle->opendatasets) (2.0.7)\n",
            "Requirement already satisfied: bleach in /usr/local/lib/python3.10/dist-packages (from kaggle->opendatasets) (6.1.0)\n",
            "Requirement already satisfied: webencodings in /usr/local/lib/python3.10/dist-packages (from bleach->kaggle->opendatasets) (0.5.1)\n",
            "Requirement already satisfied: text-unidecode>=1.3 in /usr/local/lib/python3.10/dist-packages (from python-slugify->kaggle->opendatasets) (1.3)\n",
            "Requirement already satisfied: charset-normalizer<4,>=2 in /usr/local/lib/python3.10/dist-packages (from requests->kaggle->opendatasets) (3.3.2)\n",
            "Requirement already satisfied: idna<4,>=2.5 in /usr/local/lib/python3.10/dist-packages (from requests->kaggle->opendatasets) (3.6)\n",
            "Installing collected packages: opendatasets\n",
            "Successfully installed opendatasets-0.1.22\n"
          ]
        }
      ],
      "source": [
        "!pip install opendatasets"
      ]
    },
    {
      "cell_type": "code",
      "source": [
        "import opendatasets as od\n",
        "import pandas as pd\n",
        "import numpy as np\n",
        "import missingno as msno\n",
        "import os\n",
        "import re\n",
        "import nltk\n",
        "from nltk.tokenize import word_tokenize\n",
        "import string\n",
        "from sklearn.feature_extraction.text import CountVectorizer\n",
        "from sklearn.feature_extraction.text import CountVectorizer, ENGLISH_STOP_WORDS\n",
        "from matplotlib import pyplot as plt\n",
        "import seaborn as sns\n",
        "from sklearn.cluster import KMeans\n",
        "import plotly.express as px\n",
        "from sklearn.preprocessing import StandardScaler\n",
        "from scipy.cluster.hierarchy import linkage, fcluster\n",
        "from sklearn.metrics import pairwise_distances\n",
        "from sklearn.decomposition import PCA\n",
        "from nltk.tokenize import sent_tokenize\n",
        "from wordcloud import WordCloud\n",
        "from nltk.sentiment import SentimentIntensityAnalyzer\n",
        "import gensim.downloader as api\n",
        "from sklearn.preprocessing import StandardScaler\n",
        "\n",
        "import warnings\n",
        "\n",
        "warnings.filterwarnings(\"ignore\", category=DeprecationWarning)\n",
        "warnings.filterwarnings(\"ignore\", category=FutureWarning, message=\"The default value of `n_init` will change from 10 to 'auto' in 1.4. Set the value of `n_init` explicitly to suppress the warning\")\n",
        "\n",
        "# Coded by Himani"
      ],
      "metadata": {
        "id": "PzSPFPznN9m_"
      },
      "execution_count": null,
      "outputs": []
    },
    {
      "cell_type": "code",
      "source": [
        "od.download(\n",
        "    \"https://www.kaggle.com/datasets/deepshah16/song-lyrics-dataset\")\n",
        "\n",
        "#Coded by Himani"
      ],
      "metadata": {
        "id": "HbWIRtSvN5A2",
        "colab": {
          "base_uri": "https://localhost:8080/"
        },
        "outputId": "79cc74f4-b786-4950-a9ef-4c9016bc4186"
      },
      "execution_count": null,
      "outputs": [
        {
          "output_type": "stream",
          "name": "stdout",
          "text": [
            "Downloading song-lyrics-dataset.zip to ./song-lyrics-dataset\n"
          ]
        },
        {
          "output_type": "stream",
          "name": "stderr",
          "text": [
            "100%|██████████| 19.9M/19.9M [00:01<00:00, 19.2MB/s]\n"
          ]
        },
        {
          "output_type": "stream",
          "name": "stdout",
          "text": [
            "\n"
          ]
        }
      ]
    },
    {
      "cell_type": "code",
      "source": [
        "directory = '/content/song-lyrics-dataset/csv/'\n",
        "dfs = []\n",
        "for filename in os.listdir(directory):\n",
        "    if filename.endswith(\".csv\"):\n",
        "        filepath = os.path.join(directory, filename)\n",
        "        df = pd.read_csv(filepath)\n",
        "        dfs.append(df)\n",
        "\n",
        "df_concat = pd.concat(dfs, ignore_index=True)\n",
        "df_concat\n",
        "\n",
        "#Coded by Madhumitha"
      ],
      "metadata": {
        "id": "h6rhmQBY5eaf"
      },
      "execution_count": null,
      "outputs": []
    },
    {
      "cell_type": "code",
      "source": [
        "df=df_concat\n",
        "df.to_excel('df_concat.xlsx', index=False)\n",
        "\n",
        "#Coded by Madhumitha"
      ],
      "metadata": {
        "id": "3r6ILk2K6Bvo"
      },
      "execution_count": null,
      "outputs": []
    },
    {
      "cell_type": "code",
      "source": [
        "df.info()\n",
        "\n",
        "#Coded by Madhumitha"
      ],
      "metadata": {
        "id": "DiXNz6iD6D2P"
      },
      "execution_count": null,
      "outputs": []
    },
    {
      "cell_type": "code",
      "source": [
        "df.head()\n",
        "#Coded by Madhumitha"
      ],
      "metadata": {
        "id": "0pQ30C7C6FwK"
      },
      "execution_count": null,
      "outputs": []
    },
    {
      "cell_type": "code",
      "source": [
        "df_cleaned=df.copy()\n",
        "df_cleaned.drop('Unnamed: 0', axis=1, inplace=True)\n",
        "df_cleaned\n",
        "\n",
        "#Coded by Himani"
      ],
      "metadata": {
        "id": "bsWxKRLxmnW5",
        "colab": {
          "base_uri": "https://localhost:8080/",
          "height": 423
        },
        "outputId": "24363c3e-74e4-4125-d90d-159d759752b5"
      },
      "execution_count": null,
      "outputs": [
        {
          "output_type": "execute_result",
          "data": {
            "text/plain": [
              "           Artist                  Title             Album    Year  \\\n",
              "0        Dua Lipa              New Rules          Dua Lipa  2017.0   \n",
              "1        Dua Lipa        Don’t Start Now  Future Nostalgia  2019.0   \n",
              "2        Dua Lipa                  IDGAF          Dua Lipa  2017.0   \n",
              "3        Dua Lipa  Blow Your Mind (Mwah)          Dua Lipa  2016.0   \n",
              "4        Dua Lipa             Be the One          Dua Lipa  2015.0   \n",
              "...           ...                    ...               ...     ...   \n",
              "6022  Post Malone                Lithium               NaN  2020.0   \n",
              "6023  Post Malone   Something in the Way               NaN  2020.0   \n",
              "6024  Post Malone               In Bloom               NaN  2020.0   \n",
              "6025  Post Malone   Territorial Pissings               NaN  2020.0   \n",
              "6026  Post Malone                 School               NaN  2020.0   \n",
              "\n",
              "            Date                                              Lyric  \n",
              "0     2017-06-02  one one one one one   talkin' in my sleep at n...  \n",
              "1     2019-11-01  if you don't wanna see me   did a full 80 craz...  \n",
              "2     2017-06-02  you call me all friendly tellin' me how much y...  \n",
              "3     2016-08-26  i know it's hot i know we've got something tha...  \n",
              "4     2015-10-30  i see the moon i see the moon i see the moon o...  \n",
              "...          ...                                                ...  \n",
              "6022  2020-04-24  i'm so happy 'cause today i found my friends t...  \n",
              "6023  2020-04-24  verse underneath the  tarp has sprung a leak a...  \n",
              "6024  2020-04-24  sell the kids for food weather changes moods s...  \n",
              "6025  2020-04-24  when i was an alien cultures weren't opinions ...  \n",
              "6026  2020-04-24  verse won't you believe it it's just my luck w...  \n",
              "\n",
              "[6027 rows x 6 columns]"
            ],
            "text/html": [
              "\n",
              "  <div id=\"df-0fa2608b-da64-4d31-bc8f-4a300a782f02\" class=\"colab-df-container\">\n",
              "    <div>\n",
              "<style scoped>\n",
              "    .dataframe tbody tr th:only-of-type {\n",
              "        vertical-align: middle;\n",
              "    }\n",
              "\n",
              "    .dataframe tbody tr th {\n",
              "        vertical-align: top;\n",
              "    }\n",
              "\n",
              "    .dataframe thead th {\n",
              "        text-align: right;\n",
              "    }\n",
              "</style>\n",
              "<table border=\"1\" class=\"dataframe\">\n",
              "  <thead>\n",
              "    <tr style=\"text-align: right;\">\n",
              "      <th></th>\n",
              "      <th>Artist</th>\n",
              "      <th>Title</th>\n",
              "      <th>Album</th>\n",
              "      <th>Year</th>\n",
              "      <th>Date</th>\n",
              "      <th>Lyric</th>\n",
              "    </tr>\n",
              "  </thead>\n",
              "  <tbody>\n",
              "    <tr>\n",
              "      <th>0</th>\n",
              "      <td>Dua Lipa</td>\n",
              "      <td>New Rules</td>\n",
              "      <td>Dua Lipa</td>\n",
              "      <td>2017.0</td>\n",
              "      <td>2017-06-02</td>\n",
              "      <td>one one one one one   talkin' in my sleep at n...</td>\n",
              "    </tr>\n",
              "    <tr>\n",
              "      <th>1</th>\n",
              "      <td>Dua Lipa</td>\n",
              "      <td>Don’t Start Now</td>\n",
              "      <td>Future Nostalgia</td>\n",
              "      <td>2019.0</td>\n",
              "      <td>2019-11-01</td>\n",
              "      <td>if you don't wanna see me   did a full 80 craz...</td>\n",
              "    </tr>\n",
              "    <tr>\n",
              "      <th>2</th>\n",
              "      <td>Dua Lipa</td>\n",
              "      <td>IDGAF</td>\n",
              "      <td>Dua Lipa</td>\n",
              "      <td>2017.0</td>\n",
              "      <td>2017-06-02</td>\n",
              "      <td>you call me all friendly tellin' me how much y...</td>\n",
              "    </tr>\n",
              "    <tr>\n",
              "      <th>3</th>\n",
              "      <td>Dua Lipa</td>\n",
              "      <td>Blow Your Mind (Mwah)</td>\n",
              "      <td>Dua Lipa</td>\n",
              "      <td>2016.0</td>\n",
              "      <td>2016-08-26</td>\n",
              "      <td>i know it's hot i know we've got something tha...</td>\n",
              "    </tr>\n",
              "    <tr>\n",
              "      <th>4</th>\n",
              "      <td>Dua Lipa</td>\n",
              "      <td>Be the One</td>\n",
              "      <td>Dua Lipa</td>\n",
              "      <td>2015.0</td>\n",
              "      <td>2015-10-30</td>\n",
              "      <td>i see the moon i see the moon i see the moon o...</td>\n",
              "    </tr>\n",
              "    <tr>\n",
              "      <th>...</th>\n",
              "      <td>...</td>\n",
              "      <td>...</td>\n",
              "      <td>...</td>\n",
              "      <td>...</td>\n",
              "      <td>...</td>\n",
              "      <td>...</td>\n",
              "    </tr>\n",
              "    <tr>\n",
              "      <th>6022</th>\n",
              "      <td>Post Malone</td>\n",
              "      <td>Lithium</td>\n",
              "      <td>NaN</td>\n",
              "      <td>2020.0</td>\n",
              "      <td>2020-04-24</td>\n",
              "      <td>i'm so happy 'cause today i found my friends t...</td>\n",
              "    </tr>\n",
              "    <tr>\n",
              "      <th>6023</th>\n",
              "      <td>Post Malone</td>\n",
              "      <td>Something in the Way</td>\n",
              "      <td>NaN</td>\n",
              "      <td>2020.0</td>\n",
              "      <td>2020-04-24</td>\n",
              "      <td>verse underneath the  tarp has sprung a leak a...</td>\n",
              "    </tr>\n",
              "    <tr>\n",
              "      <th>6024</th>\n",
              "      <td>Post Malone</td>\n",
              "      <td>In Bloom</td>\n",
              "      <td>NaN</td>\n",
              "      <td>2020.0</td>\n",
              "      <td>2020-04-24</td>\n",
              "      <td>sell the kids for food weather changes moods s...</td>\n",
              "    </tr>\n",
              "    <tr>\n",
              "      <th>6025</th>\n",
              "      <td>Post Malone</td>\n",
              "      <td>Territorial Pissings</td>\n",
              "      <td>NaN</td>\n",
              "      <td>2020.0</td>\n",
              "      <td>2020-04-24</td>\n",
              "      <td>when i was an alien cultures weren't opinions ...</td>\n",
              "    </tr>\n",
              "    <tr>\n",
              "      <th>6026</th>\n",
              "      <td>Post Malone</td>\n",
              "      <td>School</td>\n",
              "      <td>NaN</td>\n",
              "      <td>2020.0</td>\n",
              "      <td>2020-04-24</td>\n",
              "      <td>verse won't you believe it it's just my luck w...</td>\n",
              "    </tr>\n",
              "  </tbody>\n",
              "</table>\n",
              "<p>6027 rows × 6 columns</p>\n",
              "</div>\n",
              "    <div class=\"colab-df-buttons\">\n",
              "\n",
              "  <div class=\"colab-df-container\">\n",
              "    <button class=\"colab-df-convert\" onclick=\"convertToInteractive('df-0fa2608b-da64-4d31-bc8f-4a300a782f02')\"\n",
              "            title=\"Convert this dataframe to an interactive table.\"\n",
              "            style=\"display:none;\">\n",
              "\n",
              "  <svg xmlns=\"http://www.w3.org/2000/svg\" height=\"24px\" viewBox=\"0 -960 960 960\">\n",
              "    <path d=\"M120-120v-720h720v720H120Zm60-500h600v-160H180v160Zm220 220h160v-160H400v160Zm0 220h160v-160H400v160ZM180-400h160v-160H180v160Zm440 0h160v-160H620v160ZM180-180h160v-160H180v160Zm440 0h160v-160H620v160Z\"/>\n",
              "  </svg>\n",
              "    </button>\n",
              "\n",
              "  <style>\n",
              "    .colab-df-container {\n",
              "      display:flex;\n",
              "      gap: 12px;\n",
              "    }\n",
              "\n",
              "    .colab-df-convert {\n",
              "      background-color: #E8F0FE;\n",
              "      border: none;\n",
              "      border-radius: 50%;\n",
              "      cursor: pointer;\n",
              "      display: none;\n",
              "      fill: #1967D2;\n",
              "      height: 32px;\n",
              "      padding: 0 0 0 0;\n",
              "      width: 32px;\n",
              "    }\n",
              "\n",
              "    .colab-df-convert:hover {\n",
              "      background-color: #E2EBFA;\n",
              "      box-shadow: 0px 1px 2px rgba(60, 64, 67, 0.3), 0px 1px 3px 1px rgba(60, 64, 67, 0.15);\n",
              "      fill: #174EA6;\n",
              "    }\n",
              "\n",
              "    .colab-df-buttons div {\n",
              "      margin-bottom: 4px;\n",
              "    }\n",
              "\n",
              "    [theme=dark] .colab-df-convert {\n",
              "      background-color: #3B4455;\n",
              "      fill: #D2E3FC;\n",
              "    }\n",
              "\n",
              "    [theme=dark] .colab-df-convert:hover {\n",
              "      background-color: #434B5C;\n",
              "      box-shadow: 0px 1px 3px 1px rgba(0, 0, 0, 0.15);\n",
              "      filter: drop-shadow(0px 1px 2px rgba(0, 0, 0, 0.3));\n",
              "      fill: #FFFFFF;\n",
              "    }\n",
              "  </style>\n",
              "\n",
              "    <script>\n",
              "      const buttonEl =\n",
              "        document.querySelector('#df-0fa2608b-da64-4d31-bc8f-4a300a782f02 button.colab-df-convert');\n",
              "      buttonEl.style.display =\n",
              "        google.colab.kernel.accessAllowed ? 'block' : 'none';\n",
              "\n",
              "      async function convertToInteractive(key) {\n",
              "        const element = document.querySelector('#df-0fa2608b-da64-4d31-bc8f-4a300a782f02');\n",
              "        const dataTable =\n",
              "          await google.colab.kernel.invokeFunction('convertToInteractive',\n",
              "                                                    [key], {});\n",
              "        if (!dataTable) return;\n",
              "\n",
              "        const docLinkHtml = 'Like what you see? Visit the ' +\n",
              "          '<a target=\"_blank\" href=https://colab.research.google.com/notebooks/data_table.ipynb>data table notebook</a>'\n",
              "          + ' to learn more about interactive tables.';\n",
              "        element.innerHTML = '';\n",
              "        dataTable['output_type'] = 'display_data';\n",
              "        await google.colab.output.renderOutput(dataTable, element);\n",
              "        const docLink = document.createElement('div');\n",
              "        docLink.innerHTML = docLinkHtml;\n",
              "        element.appendChild(docLink);\n",
              "      }\n",
              "    </script>\n",
              "  </div>\n",
              "\n",
              "\n",
              "<div id=\"df-bae52c67-1384-42ba-a766-c9b545cb949b\">\n",
              "  <button class=\"colab-df-quickchart\" onclick=\"quickchart('df-bae52c67-1384-42ba-a766-c9b545cb949b')\"\n",
              "            title=\"Suggest charts\"\n",
              "            style=\"display:none;\">\n",
              "\n",
              "<svg xmlns=\"http://www.w3.org/2000/svg\" height=\"24px\"viewBox=\"0 0 24 24\"\n",
              "     width=\"24px\">\n",
              "    <g>\n",
              "        <path d=\"M19 3H5c-1.1 0-2 .9-2 2v14c0 1.1.9 2 2 2h14c1.1 0 2-.9 2-2V5c0-1.1-.9-2-2-2zM9 17H7v-7h2v7zm4 0h-2V7h2v10zm4 0h-2v-4h2v4z\"/>\n",
              "    </g>\n",
              "</svg>\n",
              "  </button>\n",
              "\n",
              "<style>\n",
              "  .colab-df-quickchart {\n",
              "      --bg-color: #E8F0FE;\n",
              "      --fill-color: #1967D2;\n",
              "      --hover-bg-color: #E2EBFA;\n",
              "      --hover-fill-color: #174EA6;\n",
              "      --disabled-fill-color: #AAA;\n",
              "      --disabled-bg-color: #DDD;\n",
              "  }\n",
              "\n",
              "  [theme=dark] .colab-df-quickchart {\n",
              "      --bg-color: #3B4455;\n",
              "      --fill-color: #D2E3FC;\n",
              "      --hover-bg-color: #434B5C;\n",
              "      --hover-fill-color: #FFFFFF;\n",
              "      --disabled-bg-color: #3B4455;\n",
              "      --disabled-fill-color: #666;\n",
              "  }\n",
              "\n",
              "  .colab-df-quickchart {\n",
              "    background-color: var(--bg-color);\n",
              "    border: none;\n",
              "    border-radius: 50%;\n",
              "    cursor: pointer;\n",
              "    display: none;\n",
              "    fill: var(--fill-color);\n",
              "    height: 32px;\n",
              "    padding: 0;\n",
              "    width: 32px;\n",
              "  }\n",
              "\n",
              "  .colab-df-quickchart:hover {\n",
              "    background-color: var(--hover-bg-color);\n",
              "    box-shadow: 0 1px 2px rgba(60, 64, 67, 0.3), 0 1px 3px 1px rgba(60, 64, 67, 0.15);\n",
              "    fill: var(--button-hover-fill-color);\n",
              "  }\n",
              "\n",
              "  .colab-df-quickchart-complete:disabled,\n",
              "  .colab-df-quickchart-complete:disabled:hover {\n",
              "    background-color: var(--disabled-bg-color);\n",
              "    fill: var(--disabled-fill-color);\n",
              "    box-shadow: none;\n",
              "  }\n",
              "\n",
              "  .colab-df-spinner {\n",
              "    border: 2px solid var(--fill-color);\n",
              "    border-color: transparent;\n",
              "    border-bottom-color: var(--fill-color);\n",
              "    animation:\n",
              "      spin 1s steps(1) infinite;\n",
              "  }\n",
              "\n",
              "  @keyframes spin {\n",
              "    0% {\n",
              "      border-color: transparent;\n",
              "      border-bottom-color: var(--fill-color);\n",
              "      border-left-color: var(--fill-color);\n",
              "    }\n",
              "    20% {\n",
              "      border-color: transparent;\n",
              "      border-left-color: var(--fill-color);\n",
              "      border-top-color: var(--fill-color);\n",
              "    }\n",
              "    30% {\n",
              "      border-color: transparent;\n",
              "      border-left-color: var(--fill-color);\n",
              "      border-top-color: var(--fill-color);\n",
              "      border-right-color: var(--fill-color);\n",
              "    }\n",
              "    40% {\n",
              "      border-color: transparent;\n",
              "      border-right-color: var(--fill-color);\n",
              "      border-top-color: var(--fill-color);\n",
              "    }\n",
              "    60% {\n",
              "      border-color: transparent;\n",
              "      border-right-color: var(--fill-color);\n",
              "    }\n",
              "    80% {\n",
              "      border-color: transparent;\n",
              "      border-right-color: var(--fill-color);\n",
              "      border-bottom-color: var(--fill-color);\n",
              "    }\n",
              "    90% {\n",
              "      border-color: transparent;\n",
              "      border-bottom-color: var(--fill-color);\n",
              "    }\n",
              "  }\n",
              "</style>\n",
              "\n",
              "  <script>\n",
              "    async function quickchart(key) {\n",
              "      const quickchartButtonEl =\n",
              "        document.querySelector('#' + key + ' button');\n",
              "      quickchartButtonEl.disabled = true;  // To prevent multiple clicks.\n",
              "      quickchartButtonEl.classList.add('colab-df-spinner');\n",
              "      try {\n",
              "        const charts = await google.colab.kernel.invokeFunction(\n",
              "            'suggestCharts', [key], {});\n",
              "      } catch (error) {\n",
              "        console.error('Error during call to suggestCharts:', error);\n",
              "      }\n",
              "      quickchartButtonEl.classList.remove('colab-df-spinner');\n",
              "      quickchartButtonEl.classList.add('colab-df-quickchart-complete');\n",
              "    }\n",
              "    (() => {\n",
              "      let quickchartButtonEl =\n",
              "        document.querySelector('#df-bae52c67-1384-42ba-a766-c9b545cb949b button');\n",
              "      quickchartButtonEl.style.display =\n",
              "        google.colab.kernel.accessAllowed ? 'block' : 'none';\n",
              "    })();\n",
              "  </script>\n",
              "</div>\n",
              "    </div>\n",
              "  </div>\n"
            ],
            "application/vnd.google.colaboratory.intrinsic+json": {
              "type": "dataframe",
              "variable_name": "df_cleaned",
              "summary": "{\n  \"name\": \"df_cleaned\",\n  \"rows\": 6027,\n  \"fields\": [\n    {\n      \"column\": \"Artist\",\n      \"properties\": {\n        \"dtype\": \"category\",\n        \"num_unique_values\": 21,\n        \"samples\": [\n          \"Dua Lipa\",\n          \"Ariana Grande\",\n          \"Selena Gomez\"\n        ],\n        \"semantic_type\": \"\",\n        \"description\": \"\"\n      }\n    },\n    {\n      \"column\": \"Title\",\n      \"properties\": {\n        \"dtype\": \"string\",\n        \"num_unique_values\": 5832,\n        \"samples\": [\n          \"\\u200billicit affairs\",\n          \"Wake Me Up\",\n          \"Eminem, Paul Rosenberg Intro\"\n        ],\n        \"semantic_type\": \"\",\n        \"description\": \"\"\n      }\n    },\n    {\n      \"column\": \"Album\",\n      \"properties\": {\n        \"dtype\": \"category\",\n        \"num_unique_values\": 569,\n        \"samples\": [\n          \"Sing - EP\",\n          \"Take a Bow (Remixes)\",\n          \"We Know The DJ Radio Vol. 4\"\n        ],\n        \"semantic_type\": \"\",\n        \"description\": \"\"\n      }\n    },\n    {\n      \"column\": \"Year\",\n      \"properties\": {\n        \"dtype\": \"category\",\n        \"num_unique_values\": 48,\n        \"samples\": [\n          2001.0,\n          \"2021\",\n          1997.0\n        ],\n        \"semantic_type\": \"\",\n        \"description\": \"\"\n      }\n    },\n    {\n      \"column\": \"Date\",\n      \"properties\": {\n        \"dtype\": \"category\",\n        \"num_unique_values\": 1505,\n        \"samples\": [\n          \"2016-07-14\",\n          \"2019-02-07\",\n          \"2008-05-19\"\n        ],\n        \"semantic_type\": \"\",\n        \"description\": \"\"\n      }\n    },\n    {\n      \"column\": \"Lyric\",\n      \"properties\": {\n        \"dtype\": \"string\",\n        \"num_unique_values\": 5640,\n        \"samples\": [\n          \"announcer jeff bass  eminem this is another public service announcement brought to you in part by slim shady tell 'em i don't give a fuck slim shady does not give a fuck what you think tell 'em to suck it if you don't like it you can suck his fucking cock tell 'em they kissed my ass little did you know upon purchasing this album you have just kissed his ass tell 'em i'm fed up slim shady is fed up with your shit and he's going to kill you yeah aanything else yeah sue me\",\n          \"ed sheeran she got the mmm brown eyes caramel thighs long hair no wedding ring hey i saw you lookin' from across the way and now i really wanna know your name she got the mmm white dress but when shes wearin' less man you know that she drives me crazy the mmm brown eyes beautiful smile you know i love watching you do your thing  pre ed sheeran i love her hips curves lips say the words te amo mami ah te amo mami i kiss her this love is like a dream   ed sheeran so join me in this bed that i'm in push up on me and sweat darling so im gonna put my time in i won't stop until the angels sing jump in that water be free come south of the border with me jump in that water be free come south of the border with me   camila cabello he got that mmm green eyes givin' me signs that he really wants to know my namehey i saw you lookin' from across the way and suddenly i'm glad i came ay ven para ac\\u00e1 quiero bailar toma mi mano quiero sentir tu cuerpo en m\\u00ed est\\u00e1s temblando mmm green eyes takin' your time now we know we'll never be the same  pre camila cabello i love his lips 'cause he says the words te amo mami ah te amo mami dont wake up this love is like a dream   ed sheeran  camila cabello ed sheeran camila cabello so join me in this bed that im in push up on me and sweat darling so i'm gonna put my time in time in and wont stop until the angels sing jump in that water be free come south of the border with me jump in that water be free come south of the border with me rrrat flawless diamonds in a green field near buenos aires until the sun's rising we won't stop until the angels sing jump in that water be free come south of the border with me jump in that water be free come south of the border with me   cardi b  camila cabello bardi uh you never live 'til you risk your life life you wanna shine you gotta get more ice ice ice oh am i your lover or im just your vice woo yeah yeah a little crazy but i'm just your type okurrr you want the lips and the curves need the whips and the furs and the diamonds i prefer in my closet his and hers ayy he want the lil' mamacita margarita margarita i think that ed got a lil' jungle fever ayy woo you are more than you are more than something borin' something borin' legs open tongue out michael jordan uh uh go explore in woo woo somethin' foreign skrrt skrrt bust it up a rain forest it be pourin' yeah kiss me like you need me rub me like a genie pull up to my spot in lamborghini 'cause you gotta see me never leave me never leave me you got a girl that could finally do it all drop a album drop a baby but i never drop the ball uh   ed sheeran camila cabello  both so join me in this bed this bed that i'm in that i'm in push up on me and sweat darling oh no no no so i'm gonna put my time in i won't stop until the angels sing nah nah nah jump in that water be free come south of the border with me come south of the border border hey come south of the border with me come south of the border border come south of the border with me jump in that water be free come south of the border with me jump in that water be free come south of the border with me\",\n          \"part  pound cake produced by boida matthew burnett and jordan evans   jimmy smith good god almightylike back in the old days you know years ago they had the ar men to tell you what to play how to play it and you know whether it's disco and rock but we just went in the studio and we did it we had the champagne in the studio of coursecompliments of the companyand we just laid back and did it so we hope you enjoy listening to this album half as much as we enjoyed playing it for you because we had a ball only real music is gonna lastall the other bullshit is here today and gone tomorrow   timbaland cash rules everything around me frikkifrikkifrik cream get theget theget theget the get theget theget theget the money dollardollar dddddollardollar dollardollar bill y'all y'all y'all cash rules everything around me cream get theget theget theget theget the get theget theget theget the monmonmoney frikkifrikkifrikki dollardollardollar bill y'all y'all y'all   drake yeah uh after hours at il mulino or sotto sotto just talkin' women and vino the contract like '9 dan marino i swear this guy michael rapino's boosting my ego overly focused it's far from the time to rest now debates growin' 'bout who they think is the best now took a while got the jokers out of the deck now i'm holdin' all the cards and niggas wanna play chess now i hear you talking say it twice so i know you meant it fuck it i don't even tint it they should know who's in it i'm authentic real name no gimmicks no game no scrimmage i ain't playin' with you niggas at all my classmates they went on to be chartered accountants or work with their parents but thinkin' back on how they treated me my high school reunion might be worth an appearance make everybody have to go through security clearance tables turn s burn you live and learn with the ink i could murder word to my nigga irv yeah i swear shit just started clickin' dog you know it's real when you are who you think you are   timbaland cash rules everything around me frikkifrikkifrik cream get theget theget theget the get theget theget theget the money dollardollar dddddollardollar dollardollar bill y'all y'all y'all cash rules everything around me cream get theget theget theget theget the get theget theget theget the monmonmoney frikkifrikkifrikki dollardollardollar bill y'all y'all y'all   jayz uh i had benzes 'fore you had braces the allblack maybach but i'm not a racist inside's whiter than katy perry's face is yellow diamonds in my jes\\u00fas i just might learn to speak mandarin japanese for the yen that i'm handlin' international hov that's my handle my saint's chang\\u00f3 light a candle el gran santo on the mantle case y'all didn't know i speak spanish too uh shout out to world wide wes everywhere we go we leave a worldwide mess yes still roc la familia says a lot about you if you not feeling us the homie said hov it ain't many of us i told 'em less is more nigga is plenty of us   timbaland cash rules everything around me frikkifrikkifrik cream get theget theget theget the get theget theget theget the money dollardollar dddddollardollar dollardollar bill y'all y'all y'all   jayz cake cakecake cakecake cake 500 million i got a pound cake niggas is frontin' that's upsidedown cake get 'em a red nose they clown cakes they shoulda never let you 'round cake look at my neck i got a karat cake uh now here's the icin' on the cake cake cakecake cakecake uhh i'm just gettin' started oh yeah we got it bitch i've done made more millionaires than the lotto did dame made millions biggs made millions ye made millions just made millions lyor made millions cam made millions beans'a tell you if he wasn't in his feelings uh i'm back in my bag my eyes bloodshot but my jet don't lag a pair of jordan 's tryna chase this cash gucci airbag just in case we crash uh last night was mad trill i'm fresh out of advil jesus grab the wheel  part  paris morton music  produced by detail  4 drake yeah uh look fuck all that happy to be here shit that y'all want me on i'm the big homie they still be tryna lil bro me dog like i should fall in line like i should alert niggas when i'm 'bout to drop somethin' crazy and not say i'm the greatest of my generation like i should be dressing different like i should be less aggressive and pessimistic like i should be way more nervous and less dismissive like i should be on my best behavior and not talk my shit and do it major like the niggas who paved the way for us like i didn't study the game to the letter and understand that i'm not doin' it the same man i'm doing it better like i didn't make that clearer this year like i should feel i don't know guilty for saying that they should put a couple more mirrors in here so i can stare at myself these are usually just some thoughts that i would share with myself but i thought fuck it it's worth it to share 'em with someone else other than paris for once i text her from time to time she a mom now i guess sometimes life forces us to calm down i told her she could live with me if she need to i got a compound but i think she's straight 'cause she supported since hot beats right before wayne came and got me out of the back room where i was rapping with jas over beats that i shouldn't have in the hopes for the glory he walked right past in the hallway three months later i'm his artist he probably wouldn't remember that story but that shit stick with me always couldn't believe when he called me you never know what could happen to you and i just spent four ferraris all on a brand new bugatti and did that shit 'cause it's somethin' to do yeah i guess that's just who i became dawg nothing was the same dawg\"\n        ],\n        \"semantic_type\": \"\",\n        \"description\": \"\"\n      }\n    }\n  ]\n}"
            }
          },
          "metadata": {},
          "execution_count": 9
        }
      ]
    },
    {
      "cell_type": "markdown",
      "source": [
        "#1.1 Null Handling"
      ],
      "metadata": {
        "id": "OGkJT9nSGB61"
      }
    },
    {
      "cell_type": "code",
      "source": [
        "df_cleaned.isna().sum()\n",
        "\n",
        "#Coded by Himani"
      ],
      "metadata": {
        "id": "_e8zz7T_kHIn",
        "colab": {
          "base_uri": "https://localhost:8080/"
        },
        "outputId": "89f2809a-298d-4f12-cad7-613f8360b791"
      },
      "execution_count": null,
      "outputs": [
        {
          "output_type": "execute_result",
          "data": {
            "text/plain": [
              "Artist       0\n",
              "Title        0\n",
              "Album     1574\n",
              "Year      1686\n",
              "Date      1686\n",
              "Lyric       46\n",
              "dtype: int64"
            ]
          },
          "metadata": {},
          "execution_count": 10
        }
      ]
    },
    {
      "cell_type": "code",
      "source": [
        "plt.figure(figsize=(10, 8))\n",
        "msno.matrix(df_cleaned, figsize=(10, 6), fontsize=12, sparkline=False, labels=True)\n",
        "\n",
        "plt.title('Figure 1.1 Missing Values Matrix', fontsize=16)\n",
        "plt.xticks(rotation=90, ha='right')\n",
        "plt.yticks(fontsize=12)\n",
        "plt.xlabel('Features', fontsize=14)\n",
        "plt.ylabel('Entries', fontsize=14)\n",
        "plt.tight_layout()\n",
        "plt.show()\n",
        "\n",
        "#Coded by Madhumitha"
      ],
      "metadata": {
        "id": "DkSOIiDcGEJj"
      },
      "execution_count": null,
      "outputs": []
    },
    {
      "cell_type": "code",
      "source": [
        "unique_artist =df_cleaned['Artist'].unique()\n",
        "unique_artist\n",
        "\n",
        "num_unique = len(unique_artist)\n",
        "print(\"Number of Unique Artists:\",num_unique)\n",
        "\n",
        "#Coded by Madhumitha"
      ],
      "metadata": {
        "id": "Od1oPqGSGGgk"
      },
      "execution_count": null,
      "outputs": []
    },
    {
      "cell_type": "code",
      "source": [
        "df_null = df_cleaned[['Artist','Album','Year', 'Date', 'Lyric']]\n",
        "\n",
        "tot_artist = df_cleaned['Artist'].value_counts()\n",
        "null_year_percentage = (df_null[df_null['Year'].isna()].groupby('Artist').size() * 100 / tot_artist).rename('Artist_Year%')\n",
        "null_date_percentage = (df_null[df_null['Date'].isna()].groupby('Artist').size() * 100 / tot_artist).rename('Artist_Date%')\n",
        "null_album_percentage = (df_null[df_null['Album'].isna()].groupby('Artist').size() * 100 / tot_artist).rename('Artist_Album%')\n",
        "null_lyric_percentage = (df_null[df_null['Lyric'].isna()].groupby('Artist').size() * 100 / tot_artist).rename('Artist_Lyric%')\n",
        "\n",
        "df_null = pd.concat([null_year_percentage, null_date_percentage, null_album_percentage, null_lyric_percentage], axis=1)\n",
        "df_null.reset_index(inplace=True)\n",
        "df_null\n",
        "\n",
        "#Coded by Himani"
      ],
      "metadata": {
        "id": "lqnpMuHnGIPQ"
      },
      "execution_count": null,
      "outputs": []
    },
    {
      "cell_type": "code",
      "source": [
        "plt.figure(figsize=(20, 6))\n",
        "\n",
        "df_null_sort=df_null.sort_values(by='Artist_Lyric%', ascending = False).reset_index()\n",
        "\n",
        "sns.barplot(x='index', y='Artist_Lyric%', data=df_null_sort)\n",
        "\n",
        "plt.xlabel('Artist', fontsize=12)\n",
        "plt.ylabel('%null', fontsize=12)\n",
        "plt.title('Figure 1. 2 Null Values of Lyrics by Artist', fontsize=14)\n",
        "plt.xticks(rotation=90)\n",
        "plt.tight_layout()\n",
        "plt.show()\n",
        "\n",
        "#Coded by Himani"
      ],
      "metadata": {
        "id": "OK0X_TUaIBM0"
      },
      "execution_count": null,
      "outputs": []
    },
    {
      "cell_type": "code",
      "source": [],
      "metadata": {
        "id": "qQ4oQCOMIJbg"
      },
      "execution_count": null,
      "outputs": []
    }
  ]
}